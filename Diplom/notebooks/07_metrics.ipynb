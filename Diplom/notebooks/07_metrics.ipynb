{
 "cells": [
  {
   "cell_type": "code",
   "execution_count": 1,
   "metadata": {},
   "outputs": [],
   "source": [
    "import pandas as pd"
   ]
  },
  {
   "cell_type": "code",
   "execution_count": 2,
   "metadata": {},
   "outputs": [],
   "source": [
    "# загружаем необходимые файлы\n",
    "\n",
    "# recommendations = pd.read_csv(\"../data/processed/recommendations_svd.csv\", sep=';')\n",
    "# recommendations = pd.read_csv(\"../data/processed/recommendations_svd_v2.csv\", sep=';')\n",
    "# recommendations = pd.read_csv(\"../data/processed/recommendations_svd_v3.csv\", sep=';')\n",
    "# recommendations = pd.read_csv(\"../data/processed/recommendations_svd_v4.csv\", sep=';')\n",
    "# recommendations = pd.read_csv(\"../data/processed/recommendations_svd_v5.csv\", sep=';')\n",
    "# recommendations = pd.read_csv(\"../data/processed/recommendations_doc2vec.csv\", sep=';')\n",
    "# recommendations = pd.read_csv(\"../data/processed/recommendations_svd_ngrams.csv\", sep=';')\n",
    "recommendations = pd.read_csv(\"../data/processed/recommendations_bert.csv\", sep=';')\n",
    "test_labels = pd.read_csv(\"../data/external/test_labels.csv\", sep=';')"
   ]
  },
  {
   "cell_type": "code",
   "execution_count": 3,
   "metadata": {},
   "outputs": [],
   "source": [
    "# формируем из данных множества\n",
    "\n",
    "true = set((test_labels['pn_lot_anon'] + \"_\" + test_labels['participant_inn_kpp_anon']).values)\n",
    "pred = set((recommendations['actual_recommended_pn_lot'] + \"_\" + recommendations['inn_kpp']).values)"
   ]
  },
  {
   "cell_type": "code",
   "execution_count": 4,
   "metadata": {},
   "outputs": [
    {
     "data": {
      "text/plain": [
       "18028"
      ]
     },
     "execution_count": 4,
     "metadata": {},
     "output_type": "execute_result"
    }
   ],
   "source": [
    "# количество совпадений\n",
    "\n",
    "intersection = len(true.intersection(pred))\n",
    "intersection"
   ]
  },
  {
   "cell_type": "code",
   "execution_count": 5,
   "metadata": {},
   "outputs": [
    {
     "name": "stdout",
     "output_type": "stream",
     "text": [
      "Точность: 3.1219208090533623\n",
      "Полнота: 16.570614458385037\n"
     ]
    }
   ],
   "source": [
    "# рассчет метрик\n",
    "\n",
    "print(f\"Точность: {intersection / len(pred) * 100}\")\n",
    "print(f\"Полнота: {intersection / len(true) * 100}\")"
   ]
  },
  {
   "cell_type": "code",
   "execution_count": null,
   "metadata": {},
   "outputs": [],
   "source": []
  },
  {
   "cell_type": "code",
   "execution_count": null,
   "metadata": {},
   "outputs": [],
   "source": []
  },
  {
   "cell_type": "code",
   "execution_count": null,
   "metadata": {},
   "outputs": [],
   "source": []
  }
 ],
 "metadata": {
  "kernelspec": {
   "display_name": "Python 3 (ipykernel)",
   "language": "python",
   "name": "python3"
  },
  "language_info": {
   "codemirror_mode": {
    "name": "ipython",
    "version": 3
   },
   "file_extension": ".py",
   "mimetype": "text/x-python",
   "name": "python",
   "nbconvert_exporter": "python",
   "pygments_lexer": "ipython3",
   "version": "3.8.11"
  }
 },
 "nbformat": 4,
 "nbformat_minor": 4
}
