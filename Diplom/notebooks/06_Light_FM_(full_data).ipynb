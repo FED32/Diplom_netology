{
 "cells": [
  {
   "cell_type": "code",
   "execution_count": 1,
   "id": "ba71ce32",
   "metadata": {},
   "outputs": [
    {
     "name": "stderr",
     "output_type": "stream",
     "text": [
      "C:\\Users\\FED\\anaconda3\\lib\\site-packages\\lightfm\\_lightfm_fast.py:9: UserWarning: LightFM was compiled without OpenMP support. Only a single thread will be used.\n",
      "  warnings.warn(\n"
     ]
    }
   ],
   "source": [
    "import numpy as np\n",
    "import pandas as pd\n",
    "import re\n",
    "from tqdm import tqdm_notebook\n",
    "from tqdm import tqdm\n",
    "\n",
    "from lightfm import LightFM\n",
    "from lightfm.evaluation import precision_at_k\n",
    "from lightfm.evaluation import recall_at_k\n",
    "from lightfm.evaluation import auc_score\n",
    "from lightfm.data import Dataset\n",
    "from lightfm.cross_validation import random_train_test_split\n",
    "\n",
    "import os\n",
    "import glob"
   ]
  },
  {
   "cell_type": "markdown",
   "id": "7e541246",
   "metadata": {},
   "source": [
    "Документация:\n",
    "\n",
    "https://making.lyst.com/lightfm/docs/home.html\n",
    "\n",
    "https://github.com/lyst/lightfm/tree/master/examples/dataset"
   ]
  },
  {
   "cell_type": "code",
   "execution_count": 2,
   "id": "bb5fba8a",
   "metadata": {},
   "outputs": [
    {
     "name": "stderr",
     "output_type": "stream",
     "text": [
      "C:\\Users\\FED\\anaconda3\\lib\\site-packages\\IPython\\core\\interactiveshell.py:3444: DtypeWarning: Columns (9) have mixed types.Specify dtype option on import or set low_memory=False.\n",
      "  exec(code_obj, self.user_global_ns, self.user_ns)\n"
     ]
    }
   ],
   "source": [
    "# загружаем данные\n",
    "\n",
    "train_labels = pd.read_csv(\"../data/external/train_labels.csv\", sep=';')\n",
    "test_data = pd.read_csv(\"../data/external/test_data.csv\", sep=';')\n",
    "\n",
    "ohe_fz = pd.read_csv(\"../data/intermid/ohe_fz.csv\")\n",
    "ohe_okpd2 = pd.read_csv(\"../data/intermid/ohe_okpd2.csv\")\n",
    "ohe_region = pd.read_csv(\"../data/intermid/ohe_region.csv\")\n",
    "ohe_date_scale_price = pd.read_csv(\"../data/intermid/ohe_date_log_scale_price.csv\")\n"
   ]
  },
  {
   "cell_type": "code",
   "execution_count": 3,
   "id": "8013056c",
   "metadata": {},
   "outputs": [],
   "source": [
    "# загружаем векторы текстовых описаний\n",
    "\n",
    "# text_vectors = pd.read_csv(\"../data/intermid/svd_vectors_redused.csv\")\n",
    "# text_vectors = pd.read_csv(\"../data/intermid/svd_vectors_ngrams_redused.csv\")\n",
    "# text_vectors = pd.read_csv(\"../data/intermid/doc2Vec_vectors.csv\")\n",
    "\n",
    "path = r'../data/intermid/bert'\n",
    "all_files = glob.glob(os.path.join(path, \"*.csv\"))\n",
    "df_from_each_file = (pd.read_csv(f) for f in all_files)\n",
    "text_vectors = pd.concat(df_from_each_file, ignore_index=True)"
   ]
  },
  {
   "cell_type": "code",
   "execution_count": 4,
   "id": "5a57d2c1",
   "metadata": {},
   "outputs": [],
   "source": [
    "# приведем идентификаторы процедур и участников к числовому типу для удобства\n",
    "\n",
    "digits = re.compile(\"[0-9]+\")\n",
    "def digits_only(text):\n",
    "    return int(''.join(digits.findall(text)))\n",
    "\n",
    "train_labels['pn_lot_anon'] = train_labels['pn_lot_anon'].apply(digits_only)\n",
    "train_labels['participant_inn_kpp_anon'] = train_labels['participant_inn_kpp_anon'].apply(digits_only)\n",
    "test_data['pn_lot_anon'] = test_data['pn_lot_anon'].apply(digits_only)"
   ]
  },
  {
   "cell_type": "code",
   "execution_count": 5,
   "id": "65a8bb6f",
   "metadata": {},
   "outputs": [],
   "source": [
    "# собираем датасет признаков процедур\n",
    "\n",
    "features = ohe_fz.merge\\\n",
    "(ohe_okpd2, how='left', left_on='pn_lot_id', right_on='pn_lot_id').merge\\\n",
    "(ohe_region, how='left', left_on='pn_lot_id', right_on='pn_lot_id').merge\\\n",
    "(ohe_date_scale_price, how='left', left_on='pn_lot_id', right_on='pn_lot_id').merge\\\n",
    "(text_vectors, how='left', left_on='pn_lot_id', right_on='pn_lot_id')"
   ]
  },
  {
   "cell_type": "code",
   "execution_count": 6,
   "id": "05247818",
   "metadata": {},
   "outputs": [
    {
     "name": "stdout",
     "output_type": "stream",
     "text": [
      "16499\n",
      "862999\n"
     ]
    }
   ],
   "source": [
    "# количества уникальных участников и процедур\n",
    "\n",
    "print(train_labels.participant_inn_kpp_anon.nunique())\n",
    "print(features.pn_lot_id.nunique())"
   ]
  },
  {
   "cell_type": "code",
   "execution_count": 7,
   "id": "23d1a75f",
   "metadata": {},
   "outputs": [],
   "source": [
    "# идентификаторы пользователей и процедур, список имен признаков\n",
    "\n",
    "user_ids = train_labels.participant_inn_kpp_anon.unique().tolist()\n",
    "item_ids = features.pn_lot_id.unique().tolist()\n",
    "item_features_names = features.columns.tolist()[1:]"
   ]
  },
  {
   "cell_type": "code",
   "execution_count": 8,
   "id": "5f8026a2",
   "metadata": {},
   "outputs": [],
   "source": [
    "# идентифицируем датасет с параметрами и передаем списки\n",
    "\n",
    "dataset = Dataset(user_identity_features=False, item_identity_features=True)\n",
    "\n",
    "dataset.fit(users=user_ids, items=item_ids, item_features=item_features_names)"
   ]
  },
  {
   "cell_type": "code",
   "execution_count": 9,
   "id": "80fb82f6",
   "metadata": {},
   "outputs": [
    {
     "name": "stdout",
     "output_type": "stream",
     "text": [
      "16499 862999\n"
     ]
    }
   ],
   "source": [
    "user_mappings1, _, item_mappings1, _ = dataset.mapping()\n",
    "print(len(user_mappings1), len(item_mappings1))"
   ]
  },
  {
   "cell_type": "code",
   "execution_count": 10,
   "id": "005979b0",
   "metadata": {},
   "outputs": [
    {
     "data": {
      "text/html": [
       "<div>\n",
       "<style scoped>\n",
       "    .dataframe tbody tr th:only-of-type {\n",
       "        vertical-align: middle;\n",
       "    }\n",
       "\n",
       "    .dataframe tbody tr th {\n",
       "        vertical-align: top;\n",
       "    }\n",
       "\n",
       "    .dataframe thead th {\n",
       "        text-align: right;\n",
       "    }\n",
       "</style>\n",
       "<table border=\"1\" class=\"dataframe\">\n",
       "  <thead>\n",
       "    <tr style=\"text-align: right;\">\n",
       "      <th></th>\n",
       "      <th>pn_lot_anon</th>\n",
       "      <th>participant_inn_kpp_anon</th>\n",
       "      <th>is_winner</th>\n",
       "      <th>fz</th>\n",
       "    </tr>\n",
       "  </thead>\n",
       "  <tbody>\n",
       "    <tr>\n",
       "      <th>0</th>\n",
       "      <td>1770702</td>\n",
       "      <td>3661899</td>\n",
       "      <td>2</td>\n",
       "      <td>44fz</td>\n",
       "    </tr>\n",
       "    <tr>\n",
       "      <th>1</th>\n",
       "      <td>1058704</td>\n",
       "      <td>3661899</td>\n",
       "      <td>2</td>\n",
       "      <td>44fz</td>\n",
       "    </tr>\n",
       "    <tr>\n",
       "      <th>2</th>\n",
       "      <td>4186044</td>\n",
       "      <td>3661899</td>\n",
       "      <td>2</td>\n",
       "      <td>44fz</td>\n",
       "    </tr>\n",
       "    <tr>\n",
       "      <th>3</th>\n",
       "      <td>6882961</td>\n",
       "      <td>3661899</td>\n",
       "      <td>2</td>\n",
       "      <td>44fz</td>\n",
       "    </tr>\n",
       "    <tr>\n",
       "      <th>4</th>\n",
       "      <td>5821609</td>\n",
       "      <td>3661899</td>\n",
       "      <td>2</td>\n",
       "      <td>44fz</td>\n",
       "    </tr>\n",
       "    <tr>\n",
       "      <th>...</th>\n",
       "      <td>...</td>\n",
       "      <td>...</td>\n",
       "      <td>...</td>\n",
       "      <td>...</td>\n",
       "    </tr>\n",
       "    <tr>\n",
       "      <th>928443</th>\n",
       "      <td>4113734</td>\n",
       "      <td>9228706</td>\n",
       "      <td>1</td>\n",
       "      <td>44fz</td>\n",
       "    </tr>\n",
       "    <tr>\n",
       "      <th>928444</th>\n",
       "      <td>1672363</td>\n",
       "      <td>9228706</td>\n",
       "      <td>2</td>\n",
       "      <td>223fz</td>\n",
       "    </tr>\n",
       "    <tr>\n",
       "      <th>928445</th>\n",
       "      <td>5319307</td>\n",
       "      <td>9228706</td>\n",
       "      <td>2</td>\n",
       "      <td>223fz</td>\n",
       "    </tr>\n",
       "    <tr>\n",
       "      <th>928446</th>\n",
       "      <td>7591446</td>\n",
       "      <td>2431264</td>\n",
       "      <td>2</td>\n",
       "      <td>223fz</td>\n",
       "    </tr>\n",
       "    <tr>\n",
       "      <th>928447</th>\n",
       "      <td>3442542</td>\n",
       "      <td>8441221</td>\n",
       "      <td>1</td>\n",
       "      <td>223fz</td>\n",
       "    </tr>\n",
       "  </tbody>\n",
       "</table>\n",
       "<p>928448 rows × 4 columns</p>\n",
       "</div>"
      ],
      "text/plain": [
       "        pn_lot_anon  participant_inn_kpp_anon  is_winner     fz\n",
       "0           1770702                   3661899          2   44fz\n",
       "1           1058704                   3661899          2   44fz\n",
       "2           4186044                   3661899          2   44fz\n",
       "3           6882961                   3661899          2   44fz\n",
       "4           5821609                   3661899          2   44fz\n",
       "...             ...                       ...        ...    ...\n",
       "928443      4113734                   9228706          1   44fz\n",
       "928444      1672363                   9228706          2  223fz\n",
       "928445      5319307                   9228706          2  223fz\n",
       "928446      7591446                   2431264          2  223fz\n",
       "928447      3442542                   8441221          1  223fz\n",
       "\n",
       "[928448 rows x 4 columns]"
      ]
     },
     "execution_count": 10,
     "metadata": {},
     "output_type": "execute_result"
    }
   ],
   "source": [
    "# увеличим 'is_winner' на 1 чтобы отличить актуальные процедуры \n",
    "\n",
    "train_labels['is_winner'] = train_labels['is_winner']+1\n",
    "train_labels"
   ]
  },
  {
   "cell_type": "code",
   "execution_count": 11,
   "id": "9415924b",
   "metadata": {},
   "outputs": [
    {
     "name": "stdout",
     "output_type": "stream",
     "text": [
      "Wall time: 4.8 s\n"
     ]
    },
    {
     "data": {
      "text/plain": [
       "(<16499x862999 sparse matrix of type '<class 'numpy.int32'>'\n",
       " \twith 928448 stored elements in COOrdinate format>,\n",
       " <16499x862999 sparse matrix of type '<class 'numpy.float32'>'\n",
       " \twith 928448 stored elements in COOrdinate format>)"
      ]
     },
     "execution_count": 11,
     "metadata": {},
     "output_type": "execute_result"
    }
   ],
   "source": [
    "%%time\n",
    "# построение матрицы взаимодействий\n",
    "\n",
    "interactions = dataset.build_interactions(np.array(train_labels[['participant_inn_kpp_anon', 'pn_lot_anon', 'is_winner']]))\n",
    "interactions"
   ]
  },
  {
   "cell_type": "code",
   "execution_count": 12,
   "id": "9916a2fc",
   "metadata": {},
   "outputs": [
    {
     "data": {
      "text/plain": [
       "(862999, 637)"
      ]
     },
     "execution_count": 12,
     "metadata": {},
     "output_type": "execute_result"
    }
   ],
   "source": [
    "# размерность датасета признаков\n",
    "\n",
    "features.shape"
   ]
  },
  {
   "cell_type": "code",
   "execution_count": 13,
   "id": "5ef40006",
   "metadata": {},
   "outputs": [
    {
     "name": "stdout",
     "output_type": "stream",
     "text": [
      "Wall time: 17min 35s\n"
     ]
    }
   ],
   "source": [
    "%%time\n",
    "# построение матрицы признаков элементов\n",
    "\n",
    "item_features = dataset.build_item_features(((row[0].astype(int), dict(zip(item_features_names, row[1:].tolist()))) for row in np.array(features)), normalize=True)"
   ]
  },
  {
   "cell_type": "code",
   "execution_count": 14,
   "id": "99b8f810",
   "metadata": {},
   "outputs": [
    {
     "name": "stdout",
     "output_type": "stream",
     "text": [
      "(16499, 862999)\n",
      "(862999, 863635)\n",
      "(0, 863635)\n",
      "(16499, 0)\n"
     ]
    }
   ],
   "source": [
    "# размерности\n",
    "\n",
    "print(dataset.interactions_shape())\n",
    "print(dataset.item_features_shape())\n",
    "print(dataset.model_dimensions())\n",
    "print(dataset.user_features_shape())"
   ]
  },
  {
   "cell_type": "code",
   "execution_count": 15,
   "id": "c865a04a",
   "metadata": {},
   "outputs": [],
   "source": [
    "# # делим данные на обучающие и тестовые\n",
    "\n",
    "# train, test = random_train_test_split(interactions[1], test_percentage=0.2, random_state=None)"
   ]
  },
  {
   "cell_type": "code",
   "execution_count": 16,
   "id": "989165ca",
   "metadata": {},
   "outputs": [],
   "source": [
    "# задаем параметры модели\n",
    "\n",
    "no_components=100\n",
    "epochs=10"
   ]
  },
  {
   "cell_type": "code",
   "execution_count": 17,
   "id": "9c52ab5f",
   "metadata": {},
   "outputs": [],
   "source": [
    "# создаем модель\n",
    "\n",
    "model = LightFM(no_components=no_components, loss='warp', item_alpha=1e-6)"
   ]
  },
  {
   "cell_type": "code",
   "execution_count": 18,
   "id": "db79bae7",
   "metadata": {},
   "outputs": [
    {
     "name": "stderr",
     "output_type": "stream",
     "text": [
      "Epoch: 100%|███████████████████████████████████████████████████████████████████████| 10/10 [4:24:32<00:00, 1587.26s/it]\n"
     ]
    },
    {
     "data": {
      "text/plain": [
       "<lightfm.lightfm.LightFM at 0x272093dfc70>"
      ]
     },
     "execution_count": 18,
     "metadata": {},
     "output_type": "execute_result"
    }
   ],
   "source": [
    "# обучаем модель\n",
    "\n",
    "# model.fit(train, user_features=None, item_features=item_features, sample_weight=train, epochs=10, verbose=True)\n",
    "model.fit(interactions[0], user_features=None, item_features=item_features, sample_weight=interactions[1], epochs=epochs, verbose=True)"
   ]
  },
  {
   "cell_type": "code",
   "execution_count": 19,
   "id": "b83f856b",
   "metadata": {},
   "outputs": [],
   "source": [
    "# Сохранение модели на диск"
   ]
  },
  {
   "cell_type": "code",
   "execution_count": 19,
   "id": "48ea82b8",
   "metadata": {},
   "outputs": [],
   "source": [
    "import pickle\n",
    "\n",
    "# path = '../models/lightfm_svd_full_data_100c_10e.model'\n",
    "# path = '../models/lightfm_svd_full_data_50c_10e.model'\n",
    "# path = '../models/lightfm_svd_full_data_75c_10e.model'\n",
    "# path = '../models/lightfm_svd_full_data_100c_5e.model'\n",
    "# path = '../models/lightfm_svd_full_data_100c_20e.model'\n",
    "# path = '../models/lightfm_doc2vec_full_data_100c_10e.model'\n",
    "# path = '../models/lightfm_svd_ngrams_full_data_100c_10e.model'\n",
    "path = '../models/lightfm_bert_full_data_100c_10e.model'\n",
    "\n",
    "with open(path, 'wb') as f:\n",
    "    pickle.dump(model, f)"
   ]
  },
  {
   "cell_type": "code",
   "execution_count": 20,
   "id": "ef40491c",
   "metadata": {},
   "outputs": [],
   "source": [
    "# Загрузка модели из диска\n",
    "\n",
    "with open(path, 'rb') as f:\n",
    "    model = pickle.load(f)"
   ]
  },
  {
   "cell_type": "code",
   "execution_count": 21,
   "id": "5cfeb58b",
   "metadata": {},
   "outputs": [
    {
     "data": {
      "text/plain": [
       "(862999, 100)"
      ]
     },
     "execution_count": 21,
     "metadata": {},
     "output_type": "execute_result"
    }
   ],
   "source": [
    "model.get_item_representations(features=item_features)[1].shape"
   ]
  },
  {
   "cell_type": "code",
   "execution_count": 22,
   "id": "e7538ca0",
   "metadata": {},
   "outputs": [],
   "source": [
    "# формируем список индексов актуальных процедур\n",
    "\n",
    "user_mappings = {k:d for d,k in user_mappings1.items()}\n",
    "item_mappings = {k:d for d,k in item_mappings1.items()}\n",
    "\n",
    "actual_item_mapping = pd.Series(item_mappings1)[test_data.pn_lot_anon.tolist()]\n",
    "items = actual_item_mapping.tolist()"
   ]
  },
  {
   "cell_type": "code",
   "execution_count": 23,
   "id": "bf55d2a0",
   "metadata": {},
   "outputs": [
    {
     "name": "stderr",
     "output_type": "stream",
     "text": [
      "100%|█████████████████████████████████████████████████████████████████████████| 16499/16499 [16:12:24<00:00,  3.54s/it]\n"
     ]
    }
   ],
   "source": [
    "# Формируем рекомендации для каждого пользователя\n",
    "\n",
    "res = []\n",
    "for user_id, user_index in tqdm(user_mappings1.items()):\n",
    "    res1 = pd.Series(model.predict(user_index, items, item_features=item_features), items).sort_values(ascending=False).keys()[:35]\n",
    "    rec = pd.Series(item_mappings)[res1].tolist()\n",
    "    for r in rec:\n",
    "        res.append((user_id, r))"
   ]
  },
  {
   "cell_type": "code",
   "execution_count": 24,
   "id": "2618d624",
   "metadata": {},
   "outputs": [],
   "source": [
    "# Формируем файл с рекомендациями"
   ]
  },
  {
   "cell_type": "code",
   "execution_count": 25,
   "id": "6f5fc813",
   "metadata": {},
   "outputs": [],
   "source": [
    "recommendations = pd.DataFrame(res)\n",
    "recommendations['similarity_score'] = 1\n",
    "recommendations.columns = ['inn_kpp', 'actual_recommended_pn_lot', 'similarity_score']"
   ]
  },
  {
   "cell_type": "code",
   "execution_count": 26,
   "id": "64de70a2",
   "metadata": {},
   "outputs": [],
   "source": [
    "recommendations['inn_kpp'] = 'inn_kpp_' + recommendations['inn_kpp'].astype(str)\n",
    "recommendations['actual_recommended_pn_lot'] = 'pn_lot_' + recommendations['actual_recommended_pn_lot'].astype(str)"
   ]
  },
  {
   "cell_type": "code",
   "execution_count": 27,
   "id": "41920eeb",
   "metadata": {},
   "outputs": [
    {
     "data": {
      "text/html": [
       "<div>\n",
       "<style scoped>\n",
       "    .dataframe tbody tr th:only-of-type {\n",
       "        vertical-align: middle;\n",
       "    }\n",
       "\n",
       "    .dataframe tbody tr th {\n",
       "        vertical-align: top;\n",
       "    }\n",
       "\n",
       "    .dataframe thead th {\n",
       "        text-align: right;\n",
       "    }\n",
       "</style>\n",
       "<table border=\"1\" class=\"dataframe\">\n",
       "  <thead>\n",
       "    <tr style=\"text-align: right;\">\n",
       "      <th></th>\n",
       "      <th>inn_kpp</th>\n",
       "      <th>actual_recommended_pn_lot</th>\n",
       "      <th>similarity_score</th>\n",
       "    </tr>\n",
       "  </thead>\n",
       "  <tbody>\n",
       "    <tr>\n",
       "      <th>0</th>\n",
       "      <td>inn_kpp_3661899</td>\n",
       "      <td>pn_lot_440011</td>\n",
       "      <td>1</td>\n",
       "    </tr>\n",
       "    <tr>\n",
       "      <th>1</th>\n",
       "      <td>inn_kpp_3661899</td>\n",
       "      <td>pn_lot_7909031</td>\n",
       "      <td>1</td>\n",
       "    </tr>\n",
       "    <tr>\n",
       "      <th>2</th>\n",
       "      <td>inn_kpp_3661899</td>\n",
       "      <td>pn_lot_2708581</td>\n",
       "      <td>1</td>\n",
       "    </tr>\n",
       "    <tr>\n",
       "      <th>3</th>\n",
       "      <td>inn_kpp_3661899</td>\n",
       "      <td>pn_lot_2682191</td>\n",
       "      <td>1</td>\n",
       "    </tr>\n",
       "    <tr>\n",
       "      <th>4</th>\n",
       "      <td>inn_kpp_3661899</td>\n",
       "      <td>pn_lot_4863</td>\n",
       "      <td>1</td>\n",
       "    </tr>\n",
       "    <tr>\n",
       "      <th>...</th>\n",
       "      <td>...</td>\n",
       "      <td>...</td>\n",
       "      <td>...</td>\n",
       "    </tr>\n",
       "    <tr>\n",
       "      <th>577460</th>\n",
       "      <td>inn_kpp_8441221</td>\n",
       "      <td>pn_lot_2381004</td>\n",
       "      <td>1</td>\n",
       "    </tr>\n",
       "    <tr>\n",
       "      <th>577461</th>\n",
       "      <td>inn_kpp_8441221</td>\n",
       "      <td>pn_lot_7557363</td>\n",
       "      <td>1</td>\n",
       "    </tr>\n",
       "    <tr>\n",
       "      <th>577462</th>\n",
       "      <td>inn_kpp_8441221</td>\n",
       "      <td>pn_lot_3833386</td>\n",
       "      <td>1</td>\n",
       "    </tr>\n",
       "    <tr>\n",
       "      <th>577463</th>\n",
       "      <td>inn_kpp_8441221</td>\n",
       "      <td>pn_lot_3097125</td>\n",
       "      <td>1</td>\n",
       "    </tr>\n",
       "    <tr>\n",
       "      <th>577464</th>\n",
       "      <td>inn_kpp_8441221</td>\n",
       "      <td>pn_lot_2952321</td>\n",
       "      <td>1</td>\n",
       "    </tr>\n",
       "  </tbody>\n",
       "</table>\n",
       "<p>577465 rows × 3 columns</p>\n",
       "</div>"
      ],
      "text/plain": [
       "                inn_kpp actual_recommended_pn_lot  similarity_score\n",
       "0       inn_kpp_3661899             pn_lot_440011                 1\n",
       "1       inn_kpp_3661899            pn_lot_7909031                 1\n",
       "2       inn_kpp_3661899            pn_lot_2708581                 1\n",
       "3       inn_kpp_3661899            pn_lot_2682191                 1\n",
       "4       inn_kpp_3661899               pn_lot_4863                 1\n",
       "...                 ...                       ...               ...\n",
       "577460  inn_kpp_8441221            pn_lot_2381004                 1\n",
       "577461  inn_kpp_8441221            pn_lot_7557363                 1\n",
       "577462  inn_kpp_8441221            pn_lot_3833386                 1\n",
       "577463  inn_kpp_8441221            pn_lot_3097125                 1\n",
       "577464  inn_kpp_8441221            pn_lot_2952321                 1\n",
       "\n",
       "[577465 rows x 3 columns]"
      ]
     },
     "execution_count": 27,
     "metadata": {},
     "output_type": "execute_result"
    }
   ],
   "source": [
    "recommendations"
   ]
  },
  {
   "cell_type": "code",
   "execution_count": 28,
   "id": "600f86c6",
   "metadata": {},
   "outputs": [],
   "source": [
    "# # 100c_10e_svd\n",
    "# recommendations.to_csv(\"../data/processed/recommendations_svd.csv\", index=False, sep=';')\n",
    "\n",
    "# # 50c_10e_svd\n",
    "# recommendations.to_csv(\"../data/processed/recommendations_svd_v2.csv\", index=False, sep=';')\n",
    "\n",
    "# # 75c_10e_svd\n",
    "# recommendations.to_csv(\"../data/processed/recommendations_svd_v3.csv\", index=False, sep=';')\n",
    "\n",
    "# # 100c_5e_svd\n",
    "# recommendations.to_csv(\"../data/processed/recommendations_svd_v4.csv\", index=False, sep=';')\n",
    "\n",
    "# # 100c_20e_svd\n",
    "# recommendations.to_csv(\"../data/processed/recommendations_svd_v5.csv\", index=False, sep=';')\n",
    "\n",
    "# # 100c_10e_doc2vec\n",
    "# recommendations.to_csv(\"../data/processed/recommendations_doc2vec.csv\", index=False, sep=';')\n",
    "\n",
    "# # 100c_10e_svd_ngrams\n",
    "# recommendations.to_csv(\"../data/processed/recommendations_svd_ngrams.csv\", index=False, sep=';')\n",
    "\n",
    "# 100c_10e_bert\n",
    "recommendations.to_csv(\"../data/processed/recommendations_bert.csv\", index=False, sep=';')"
   ]
  },
  {
   "cell_type": "code",
   "execution_count": null,
   "id": "ee680052",
   "metadata": {},
   "outputs": [],
   "source": []
  },
  {
   "cell_type": "code",
   "execution_count": null,
   "id": "7f90d611",
   "metadata": {},
   "outputs": [],
   "source": []
  },
  {
   "cell_type": "code",
   "execution_count": null,
   "id": "c5aefe48",
   "metadata": {},
   "outputs": [],
   "source": []
  }
 ],
 "metadata": {
  "kernelspec": {
   "display_name": "Python 3 (ipykernel)",
   "language": "python",
   "name": "python3"
  },
  "language_info": {
   "codemirror_mode": {
    "name": "ipython",
    "version": 3
   },
   "file_extension": ".py",
   "mimetype": "text/x-python",
   "name": "python",
   "nbconvert_exporter": "python",
   "pygments_lexer": "ipython3",
   "version": "3.8.11"
  }
 },
 "nbformat": 4,
 "nbformat_minor": 5
}
