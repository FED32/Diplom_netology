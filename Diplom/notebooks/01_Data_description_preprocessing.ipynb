{
 "cells": [
  {
   "cell_type": "code",
   "execution_count": 37,
   "metadata": {},
   "outputs": [],
   "source": [
    "import pandas as pd\n",
    "from tqdm import tqdm_notebook\n",
    "import warnings\n",
    "warnings.filterwarnings('ignore')\n",
    "import matplotlib.pyplot as plt\n",
    "\n",
    "import re\n",
    "from nltk.corpus import stopwords\n",
    "from pymorphy2 import MorphAnalyzer\n",
    "pymorphy2_analyzer = MorphAnalyzer()\n",
    "%matplotlib inline"
   ]
  },
  {
   "cell_type": "code",
   "execution_count": 38,
   "metadata": {},
   "outputs": [],
   "source": [
    "train_data = pd.read_csv(\"../data/external/train_data.csv\", sep=';')\n",
    "train_labels = pd.read_csv(\"../data/external/train_labels.csv\", sep=';')\n",
    "test_data = pd.read_csv(\"../data/external/test_data.csv\", sep=';')"
   ]
  },
  {
   "cell_type": "code",
   "execution_count": 39,
   "metadata": {},
   "outputs": [],
   "source": [
    "#Заполнение пропусков строкой 'None'\n",
    "train_data = train_data.fillna('None')\n",
    "test_data = test_data.fillna('None')"
   ]
  },
  {
   "cell_type": "code",
   "execution_count": 40,
   "metadata": {},
   "outputs": [],
   "source": [
    "train_data['okpd2_or_additional_code'] = train_data[['okpd2_code', 'additional_code']].apply(lambda x: x[0] if x[1] == 'None' else x[1], axis=1)\n",
    "test_data['okpd2_or_additional_code'] = test_data[['okpd2_code', 'additional_code']].apply(lambda x: x[0] if x[1] == 'None' else x[1], axis=1)"
   ]
  },
  {
   "cell_type": "code",
   "execution_count": 43,
   "metadata": {},
   "outputs": [],
   "source": [
    "# Формирование описания тендера\n",
    "train_data['text_description_tender'] = train_data['purchase_name'] + \" \" + train_data['lot_name'] + \" \" + train_data['okpd2_names'] + \" \" + train_data['additional_code_names'] + \" \" + train_data['item_descriptions']\n",
    "test_data['text_description_tender'] = test_data['purchase_name'] + \" \" + test_data['lot_name'] + \" \" + test_data['okpd2_names'] + \" \" + test_data['additional_code_names'] + \" \" + test_data['item_descriptions']"
   ]
  },
  {
   "cell_type": "code",
   "execution_count": 44,
   "metadata": {},
   "outputs": [
    {
     "data": {
      "text/plain": [
       "(778901, 14)"
      ]
     },
     "execution_count": 44,
     "metadata": {},
     "output_type": "execute_result"
    }
   ],
   "source": [
    "train_data.shape"
   ]
  },
  {
   "cell_type": "code",
   "execution_count": 45,
   "metadata": {},
   "outputs": [
    {
     "data": {
      "text/plain": [
       "(84098, 14)"
      ]
     },
     "execution_count": 45,
     "metadata": {},
     "output_type": "execute_result"
    }
   ],
   "source": [
    "test_data.shape"
   ]
  },
  {
   "cell_type": "code",
   "execution_count": 46,
   "metadata": {},
   "outputs": [],
   "source": [
    "# train_data = train_data[:10000]\n",
    "# test_data = test_data[:10000]"
   ]
  },
  {
   "cell_type": "code",
   "execution_count": 47,
   "metadata": {},
   "outputs": [],
   "source": [
    "mystopwords = stopwords.words('russian')\n",
    "ru_words = re.compile(\"[А-Яа-я]+\")\n",
    "\n",
    "# функция фильтрующая текст от остальных символов\n",
    "def words_only(text):\n",
    "    return \" \".join(ru_words.findall(text))\n",
    "\n",
    "# функция лемматизации текста\n",
    "# def lemmatize(text, mystem=m):\n",
    "#     try:\n",
    "#         return \"\".join(m.lemmatize(text)).strip()  \n",
    "#     except:\n",
    "#         return \" \"\n",
    "    \n",
    "def lemmatize(text):\n",
    "    try:\n",
    "        return \" \".join(pymorphy2_analyzer.parse(word)[0].normal_form for word in text.split())\n",
    "    except:\n",
    "        return \" \"\n",
    "\n",
    "# функция для удаления стоп-слов\n",
    "def remove_stopwords(text, mystopwords = mystopwords):\n",
    "    try:\n",
    "        return \" \".join([token for token in text.split() if not token in mystopwords])\n",
    "    except:\n",
    "        return \"\"\n",
    "\n",
    "# функция для удаления дубликатов (для случая когда в text_description_tender попал одинаковый текст при объединении текста из ячеек)\n",
    "def remove_word_duplicates(text):\n",
    "    text_ = []\n",
    "    for word in text.split():\n",
    "        if word not in text_:\n",
    "            text_.append(word)\n",
    "    return ' '.join(text_)    \n",
    "\n",
    "# итоговая функция обработки текста\n",
    "def preprocess(text):\n",
    "    return remove_word_duplicates(remove_stopwords(lemmatize(words_only(text.lower()))))"
   ]
  },
  {
   "cell_type": "code",
   "execution_count": 48,
   "metadata": {},
   "outputs": [],
   "source": [
    "digits = re.compile(\"[0-9]+\")\n",
    "def digits_only(text):\n",
    "    return int(''.join(digits.findall(text)))"
   ]
  },
  {
   "cell_type": "code",
   "execution_count": 49,
   "metadata": {},
   "outputs": [
    {
     "name": "stdout",
     "output_type": "stream",
     "text": [
      "Wall time: 4h 51min 22s\n"
     ]
    }
   ],
   "source": [
    "%%time\n",
    "# обработка текста\n",
    "train_data['text_description_tender_stemmed'] = train_data.text_description_tender.apply(preprocess)\n",
    "test_data['text_description_tender_stemmed'] = test_data.text_description_tender.apply(preprocess)"
   ]
  },
  {
   "cell_type": "code",
   "execution_count": 50,
   "metadata": {},
   "outputs": [
    {
     "name": "stdout",
     "output_type": "stream",
     "text": [
      "Wall time: 1.35 s\n"
     ]
    }
   ],
   "source": [
    "%%time\n",
    "# приведение pn_lot_anon к числовому виду, чтобы использовать в качестве уникального идентификатора\n",
    "train_data['pn_lot_id'] = train_data.pn_lot_anon.apply(digits_only)\n",
    "test_data['pn_lot_id'] = test_data.pn_lot_anon.apply(digits_only)"
   ]
  },
  {
   "cell_type": "code",
   "execution_count": 51,
   "metadata": {},
   "outputs": [],
   "source": [
    "# создаем датасеты с описаниями тендеров и сохраняем в csv файлы для дальнейшего использования\n",
    "train_data_desc_stemmed = train_data[['pn_lot_id', 'text_description_tender_stemmed']]\n",
    "test_data_desc_stemmed = test_data[['pn_lot_id', 'text_description_tender_stemmed']]"
   ]
  },
  {
   "cell_type": "code",
   "execution_count": 52,
   "metadata": {},
   "outputs": [
    {
     "data": {
      "text/html": [
       "<div>\n",
       "<style scoped>\n",
       "    .dataframe tbody tr th:only-of-type {\n",
       "        vertical-align: middle;\n",
       "    }\n",
       "\n",
       "    .dataframe tbody tr th {\n",
       "        vertical-align: top;\n",
       "    }\n",
       "\n",
       "    .dataframe thead th {\n",
       "        text-align: right;\n",
       "    }\n",
       "</style>\n",
       "<table border=\"1\" class=\"dataframe\">\n",
       "  <thead>\n",
       "    <tr style=\"text-align: right;\">\n",
       "      <th></th>\n",
       "      <th>pn_lot_id</th>\n",
       "      <th>text_description_tender_stemmed</th>\n",
       "    </tr>\n",
       "  </thead>\n",
       "  <tbody>\n",
       "    <tr>\n",
       "      <th>0</th>\n",
       "      <td>7031618</td>\n",
       "      <td>услуга проведение финансовый аудит</td>\n",
       "    </tr>\n",
       "    <tr>\n",
       "      <th>1</th>\n",
       "      <td>7808247</td>\n",
       "      <td>приобретение приз проведение конкурс вопрос из...</td>\n",
       "    </tr>\n",
       "    <tr>\n",
       "      <th>2</th>\n",
       "      <td>7009496</td>\n",
       "      <td>приобретение приз проведение мероприятие избир...</td>\n",
       "    </tr>\n",
       "    <tr>\n",
       "      <th>3</th>\n",
       "      <td>5938735</td>\n",
       "      <td>продление лицензия битрикс управление сайт веб...</td>\n",
       "    </tr>\n",
       "    <tr>\n",
       "      <th>4</th>\n",
       "      <td>9327348</td>\n",
       "      <td>приобретение компьютерный техника машина вычис...</td>\n",
       "    </tr>\n",
       "    <tr>\n",
       "      <th>...</th>\n",
       "      <td>...</td>\n",
       "      <td>...</td>\n",
       "    </tr>\n",
       "    <tr>\n",
       "      <th>778896</th>\n",
       "      <td>2387328</td>\n",
       "      <td>пми закупка эа нефть сырой наименование товар ...</td>\n",
       "    </tr>\n",
       "    <tr>\n",
       "      <th>778897</th>\n",
       "      <td>2416734</td>\n",
       "      <td>пми закупка эа нефть сырой наименование товар ...</td>\n",
       "    </tr>\n",
       "    <tr>\n",
       "      <th>778898</th>\n",
       "      <td>1607958</td>\n",
       "      <td>пми закупка эа нефть сырой наименование товар ...</td>\n",
       "    </tr>\n",
       "    <tr>\n",
       "      <th>778899</th>\n",
       "      <td>8820511</td>\n",
       "      <td>пми закупка эа нефть сырой наименование товар ...</td>\n",
       "    </tr>\n",
       "    <tr>\n",
       "      <th>778900</th>\n",
       "      <td>2852669</td>\n",
       "      <td>эок тест интеграция услуга проектирование разр...</td>\n",
       "    </tr>\n",
       "  </tbody>\n",
       "</table>\n",
       "<p>778901 rows × 2 columns</p>\n",
       "</div>"
      ],
      "text/plain": [
       "        pn_lot_id                    text_description_tender_stemmed\n",
       "0         7031618                 услуга проведение финансовый аудит\n",
       "1         7808247  приобретение приз проведение конкурс вопрос из...\n",
       "2         7009496  приобретение приз проведение мероприятие избир...\n",
       "3         5938735  продление лицензия битрикс управление сайт веб...\n",
       "4         9327348  приобретение компьютерный техника машина вычис...\n",
       "...           ...                                                ...\n",
       "778896    2387328  пми закупка эа нефть сырой наименование товар ...\n",
       "778897    2416734  пми закупка эа нефть сырой наименование товар ...\n",
       "778898    1607958  пми закупка эа нефть сырой наименование товар ...\n",
       "778899    8820511  пми закупка эа нефть сырой наименование товар ...\n",
       "778900    2852669  эок тест интеграция услуга проектирование разр...\n",
       "\n",
       "[778901 rows x 2 columns]"
      ]
     },
     "execution_count": 52,
     "metadata": {},
     "output_type": "execute_result"
    }
   ],
   "source": [
    "train_data_desc_stemmed"
   ]
  },
  {
   "cell_type": "code",
   "execution_count": 53,
   "metadata": {},
   "outputs": [
    {
     "data": {
      "text/html": [
       "<div>\n",
       "<style scoped>\n",
       "    .dataframe tbody tr th:only-of-type {\n",
       "        vertical-align: middle;\n",
       "    }\n",
       "\n",
       "    .dataframe tbody tr th {\n",
       "        vertical-align: top;\n",
       "    }\n",
       "\n",
       "    .dataframe thead th {\n",
       "        text-align: right;\n",
       "    }\n",
       "</style>\n",
       "<table border=\"1\" class=\"dataframe\">\n",
       "  <thead>\n",
       "    <tr style=\"text-align: right;\">\n",
       "      <th></th>\n",
       "      <th>pn_lot_id</th>\n",
       "      <th>text_description_tender_stemmed</th>\n",
       "    </tr>\n",
       "  </thead>\n",
       "  <tbody>\n",
       "    <tr>\n",
       "      <th>0</th>\n",
       "      <td>2889061</td>\n",
       "      <td>услуга проведение финансовый аудит</td>\n",
       "    </tr>\n",
       "    <tr>\n",
       "      <th>1</th>\n",
       "      <td>5769273</td>\n",
       "      <td>приобретение офисный деревянный мебель стол пи...</td>\n",
       "    </tr>\n",
       "    <tr>\n",
       "      <th>2</th>\n",
       "      <td>3605798</td>\n",
       "      <td>оказание услуга предоставление лицензия право ...</td>\n",
       "    </tr>\n",
       "    <tr>\n",
       "      <th>3</th>\n",
       "      <td>1215937</td>\n",
       "      <td>приобретение офисный металлический мебель проч...</td>\n",
       "    </tr>\n",
       "    <tr>\n",
       "      <th>4</th>\n",
       "      <td>5025054</td>\n",
       "      <td>приобретение многофункциональный устройство мф...</td>\n",
       "    </tr>\n",
       "    <tr>\n",
       "      <th>...</th>\n",
       "      <td>...</td>\n",
       "      <td>...</td>\n",
       "    </tr>\n",
       "    <tr>\n",
       "      <th>84093</th>\n",
       "      <td>5373821</td>\n",
       "      <td>право заключение договор выполнение строительн...</td>\n",
       "    </tr>\n",
       "    <tr>\n",
       "      <th>84094</th>\n",
       "      <td>8396902</td>\n",
       "      <td>право заключение договор выполнение строительн...</td>\n",
       "    </tr>\n",
       "    <tr>\n",
       "      <th>84095</th>\n",
       "      <td>7569089</td>\n",
       "      <td>запрос ценовый предложение электронный форма п...</td>\n",
       "    </tr>\n",
       "    <tr>\n",
       "      <th>84096</th>\n",
       "      <td>2403905</td>\n",
       "      <td>право заключение договор выполнение проектный ...</td>\n",
       "    </tr>\n",
       "    <tr>\n",
       "      <th>84097</th>\n",
       "      <td>869985</td>\n",
       "      <td>право заключение договор выполнение проектный ...</td>\n",
       "    </tr>\n",
       "  </tbody>\n",
       "</table>\n",
       "<p>84098 rows × 2 columns</p>\n",
       "</div>"
      ],
      "text/plain": [
       "       pn_lot_id                    text_description_tender_stemmed\n",
       "0        2889061                 услуга проведение финансовый аудит\n",
       "1        5769273  приобретение офисный деревянный мебель стол пи...\n",
       "2        3605798  оказание услуга предоставление лицензия право ...\n",
       "3        1215937  приобретение офисный металлический мебель проч...\n",
       "4        5025054  приобретение многофункциональный устройство мф...\n",
       "...          ...                                                ...\n",
       "84093    5373821  право заключение договор выполнение строительн...\n",
       "84094    8396902  право заключение договор выполнение строительн...\n",
       "84095    7569089  запрос ценовый предложение электронный форма п...\n",
       "84096    2403905  право заключение договор выполнение проектный ...\n",
       "84097     869985  право заключение договор выполнение проектный ...\n",
       "\n",
       "[84098 rows x 2 columns]"
      ]
     },
     "execution_count": 53,
     "metadata": {},
     "output_type": "execute_result"
    }
   ],
   "source": [
    "test_data_desc_stemmed"
   ]
  },
  {
   "cell_type": "code",
   "execution_count": 54,
   "metadata": {},
   "outputs": [],
   "source": [
    "train_data_desc_stemmed.to_csv('../data/intermid/train_data_desc_stemmed.csv', index=False, encoding='utf-8')\n",
    "test_data_desc_stemmed.to_csv('../data/intermid/test_data_desc_stemmed.csv', index=False, encoding='utf-8')"
   ]
  },
  {
   "cell_type": "code",
   "execution_count": null,
   "metadata": {},
   "outputs": [],
   "source": []
  },
  {
   "cell_type": "code",
   "execution_count": null,
   "metadata": {},
   "outputs": [],
   "source": []
  },
  {
   "cell_type": "code",
   "execution_count": null,
   "metadata": {},
   "outputs": [],
   "source": []
  },
  {
   "cell_type": "code",
   "execution_count": null,
   "metadata": {},
   "outputs": [],
   "source": []
  },
  {
   "cell_type": "code",
   "execution_count": null,
   "metadata": {},
   "outputs": [],
   "source": []
  },
  {
   "cell_type": "code",
   "execution_count": null,
   "metadata": {},
   "outputs": [],
   "source": []
  },
  {
   "cell_type": "code",
   "execution_count": null,
   "metadata": {},
   "outputs": [],
   "source": []
  },
  {
   "cell_type": "code",
   "execution_count": null,
   "metadata": {},
   "outputs": [],
   "source": []
  },
  {
   "cell_type": "code",
   "execution_count": null,
   "metadata": {},
   "outputs": [],
   "source": []
  },
  {
   "cell_type": "code",
   "execution_count": null,
   "metadata": {},
   "outputs": [],
   "source": []
  },
  {
   "cell_type": "code",
   "execution_count": null,
   "metadata": {},
   "outputs": [],
   "source": []
  },
  {
   "cell_type": "code",
   "execution_count": null,
   "metadata": {},
   "outputs": [],
   "source": []
  },
  {
   "cell_type": "code",
   "execution_count": null,
   "metadata": {},
   "outputs": [],
   "source": []
  },
  {
   "cell_type": "code",
   "execution_count": null,
   "metadata": {},
   "outputs": [],
   "source": []
  },
  {
   "cell_type": "code",
   "execution_count": null,
   "metadata": {},
   "outputs": [],
   "source": []
  },
  {
   "cell_type": "code",
   "execution_count": null,
   "metadata": {},
   "outputs": [],
   "source": []
  },
  {
   "cell_type": "code",
   "execution_count": null,
   "metadata": {},
   "outputs": [],
   "source": []
  },
  {
   "cell_type": "code",
   "execution_count": null,
   "metadata": {},
   "outputs": [],
   "source": []
  },
  {
   "cell_type": "code",
   "execution_count": null,
   "metadata": {},
   "outputs": [],
   "source": []
  }
 ],
 "metadata": {
  "kernelspec": {
   "display_name": "Python 3 (ipykernel)",
   "language": "python",
   "name": "python3"
  },
  "language_info": {
   "codemirror_mode": {
    "name": "ipython",
    "version": 3
   },
   "file_extension": ".py",
   "mimetype": "text/x-python",
   "name": "python",
   "nbconvert_exporter": "python",
   "pygments_lexer": "ipython3",
   "version": "3.8.11"
  }
 },
 "nbformat": 4,
 "nbformat_minor": 4
}
